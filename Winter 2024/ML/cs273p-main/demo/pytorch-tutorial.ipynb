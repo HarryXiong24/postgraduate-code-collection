{
  "cells": [
    {
      "cell_type": "markdown",
      "metadata": {
        "colab_type": "text",
        "id": "view-in-github"
      },
      "source": [
        "<a href=\"https://colab.research.google.com/github/xhxuciedu/cs273p/blob/main/pytorch-tutorial.ipynb\" target=\"_parent\"><img src=\"https://colab.research.google.com/assets/colab-badge.svg\" alt=\"Open In Colab\"/></a>\n"
      ]
    },
    {
      "cell_type": "code",
      "execution_count": 1,
      "metadata": {
        "id": "7FKQCFzXDnGH"
      },
      "outputs": [],
      "source": [
        "import numpy as np\n",
        "import matplotlib.pylab as plt\n",
        "import sys\n",
        "import torch\n",
        "import torchvision\n",
        "import torch.nn as nn\n",
        "import torchvision.transforms as transforms"
      ]
    },
    {
      "cell_type": "code",
      "execution_count": 2,
      "metadata": {
        "id": "iw_f9layCouO"
      },
      "outputs": [],
      "source": [
        "from IPython.display import HTML, display\n",
        "\n",
        "\n",
        "def set_default(figsize=(8, 5), dpi=100):\n",
        "    plt.style.use([\"dark_background\", \"bmh\"])\n",
        "    plt.rc(\"axes\", facecolor=\"k\")\n",
        "    plt.rc(\"figure\", facecolor=\"k\")\n",
        "    plt.rc(\"figure\", figsize=figsize, dpi=dpi)\n",
        "\n",
        "\n",
        "set_default()"
      ]
    },
    {
      "cell_type": "markdown",
      "metadata": {
        "id": "q_w92gMaP6N1"
      },
      "source": [
        "### Check Package Versions"
      ]
    },
    {
      "cell_type": "code",
      "execution_count": 3,
      "metadata": {
        "colab": {
          "base_uri": "https://localhost:8080/"
        },
        "id": "uYr2YRtWPkel",
        "outputId": "30e3d36c-75e0-4647-82ee-63b16863ee43"
      },
      "outputs": [
        {
          "name": "stdout",
          "output_type": "stream",
          "text": [
            "__Python VERSION: 3.11.5 (main, Sep 11 2023, 08:31:25) [Clang 14.0.6 ]\n",
            "__PyTorch VERSION: 2.1.2\n",
            "__CUDNN VERSION: None\n",
            "__Number CUDA Devices: 0\n"
          ]
        }
      ],
      "source": [
        "print(\"__Python VERSION:\", sys.version)\n",
        "print(\"__PyTorch VERSION:\", torch.__version__)\n",
        "print(\"__CUDNN VERSION:\", torch.backends.cudnn.version())\n",
        "print(\"__Number CUDA Devices:\", torch.cuda.device_count())"
      ]
    },
    {
      "cell_type": "markdown",
      "metadata": {
        "id": "5Eq_6EZ0QM23"
      },
      "source": [
        "### PyTorch\n",
        "\n",
        "What is PyTorch?\n",
        "\n",
        "It’s a Python based scientific computing package targeted at two sets of audiences:\n",
        "\n",
        "- A replacement for numpy to use the power of GPUs\n",
        "- a deep learning research platform that provides maximum flexibility and speed\n"
      ]
    },
    {
      "cell_type": "markdown",
      "metadata": {
        "id": "cSa2TTQfQ3nS"
      },
      "source": [
        "### Tensors\n",
        "\n",
        "Tensors are similar to numpy’s ndarrays, with the addition being that Tensors can also be used on a GPU to accelerate computing.\n",
        "\n",
        "Construct a 5x3 matrix, uninitialized\n"
      ]
    },
    {
      "cell_type": "code",
      "execution_count": 4,
      "metadata": {
        "colab": {
          "base_uri": "https://localhost:8080/"
        },
        "id": "xTW9C9zVRLWy",
        "outputId": "c79af034-3894-4d11-e128-e3220e77227c"
      },
      "outputs": [
        {
          "name": "stdout",
          "output_type": "stream",
          "text": [
            "tensor([[0., 0., 0.],\n",
            "        [0., 0., 0.],\n",
            "        [0., 0., 0.],\n",
            "        [0., 0., 0.],\n",
            "        [0., 0., 0.]])\n"
          ]
        }
      ],
      "source": [
        "x = torch.Tensor(5, 3)\n",
        "print(x)"
      ]
    },
    {
      "cell_type": "code",
      "execution_count": 5,
      "metadata": {
        "colab": {
          "base_uri": "https://localhost:8080/"
        },
        "id": "i74pPBySRRDZ",
        "outputId": "b0d20944-4bad-416a-e74d-7f759dc86fd2"
      },
      "outputs": [
        {
          "name": "stdout",
          "output_type": "stream",
          "text": [
            "tensor([[0.8874, 0.2617, 0.4787],\n",
            "        [0.8266, 0.1494, 0.5140],\n",
            "        [0.0977, 0.4356, 0.1170],\n",
            "        [0.7623, 0.3481, 0.8324],\n",
            "        [0.4512, 0.9530, 0.6559]])\n"
          ]
        }
      ],
      "source": [
        "# get its size\n",
        "y = torch.rand(5, 3)\n",
        "print(x + y)"
      ]
    },
    {
      "cell_type": "code",
      "execution_count": 6,
      "metadata": {
        "colab": {
          "base_uri": "https://localhost:8080/"
        },
        "id": "O0xeSB-3Rd1L",
        "outputId": "38cd4b2d-6a08-499a-a856-5cbdaaa2df44"
      },
      "outputs": [
        {
          "data": {
            "text/plain": [
              "tensor([[0.8874, 0.2617, 0.4787],\n",
              "        [0.8266, 0.1494, 0.5140],\n",
              "        [0.0977, 0.4356, 0.1170],\n",
              "        [0.7623, 0.3481, 0.8324],\n",
              "        [0.4512, 0.9530, 0.6559]])"
            ]
          },
          "execution_count": 6,
          "metadata": {},
          "output_type": "execute_result"
        }
      ],
      "source": [
        "# Addition: in-place\n",
        "y.add_(x)"
      ]
    },
    {
      "cell_type": "markdown",
      "metadata": {
        "id": "QagJi5H9YT_M"
      },
      "source": [
        "### Create tensors"
      ]
    },
    {
      "cell_type": "code",
      "execution_count": 7,
      "metadata": {
        "id": "zF881O3lYfwc"
      },
      "outputs": [],
      "source": [
        "# random\n",
        "v = torch.rand(2, 3)  # Initialize with random number (uniform distribution)\n",
        "v = torch.randn(2, 3)  # With normal distribution (SD=1, mean=0)\n",
        "v = torch.randperm(4)\n",
        "\n",
        "# ones\n",
        "eye = torch.eye(3)  # Create an identity 3x3 tensor\n",
        "v = torch.ones(10)  # A tensor of size 10 containing all ones\n",
        "v = torch.ones(2, 1, 2, 1)  # Size 2x1x2x1\n",
        "v = torch.ones_like(eye)  # A tensor with same shape as eye. Fill it with 1.\n",
        "\n",
        "# zeros\n",
        "v = torch.zeros(10)\n",
        "\n",
        "# range of values\n",
        "v = torch.arange(5)  # similar to range(5) but creating a Tensor\n",
        "v = torch.arange(0, 5, step=1)  # Size 5. Similar to range(0, 5, 1)\n",
        "\n",
        "# linear or log scale\n",
        "v = torch.linspace(\n",
        "    1, 10, steps=10\n",
        ")  # Create a Tensor with 10 linear points for (1, 10) inclusively\n",
        "v = torch.logspace(\n",
        "    start=-10, end=10, steps=5\n",
        ")  # Size 5: 1.0e-10 1.0e-05 1.0e+00, 1.0e+05, 1.0e+10"
      ]
    },
    {
      "cell_type": "markdown",
      "metadata": {
        "id": "j0_vX6QFbP9r"
      },
      "source": [
        "### Dot product, component-wide product, matrix multiplication, "
      ]
    },
    {
      "cell_type": "code",
      "execution_count": 8,
      "metadata": {
        "id": "Hbf5A2rTYonK"
      },
      "outputs": [],
      "source": [
        "# Dot product of 2 tensors\n",
        "r = torch.dot(torch.Tensor([4, 2]), torch.Tensor([3, 1]))  # 14"
      ]
    },
    {
      "cell_type": "code",
      "execution_count": 9,
      "metadata": {
        "colab": {
          "base_uri": "https://localhost:8080/"
        },
        "id": "F-AZEEfEYosW",
        "outputId": "fb6f37fd-e9d9-47dd-b7eb-23eadaedc526"
      },
      "outputs": [
        {
          "data": {
            "text/plain": [
              "tensor([12.,  2.])"
            ]
          },
          "execution_count": 9,
          "metadata": {},
          "output_type": "execute_result"
        }
      ],
      "source": [
        "# component-wise product\n",
        "torch.Tensor([4, 2]) * torch.Tensor([3, 1])"
      ]
    },
    {
      "cell_type": "code",
      "execution_count": 10,
      "metadata": {
        "id": "bnfFZpz4a0JG"
      },
      "outputs": [],
      "source": [
        "# Matrix x Matrix\n",
        "# Size 2x4\n",
        "mat1 = torch.randn(2, 3)\n",
        "mat2 = torch.randn(3, 4)\n",
        "r = torch.mm(mat1, mat2)"
      ]
    },
    {
      "cell_type": "code",
      "execution_count": 11,
      "metadata": {
        "id": "9fNQ8Aw-ahBH"
      },
      "outputs": [],
      "source": [
        "# Batch Matrix x Matrix\n",
        "# Size 10x3x5\n",
        "batch1 = torch.randn(10, 3, 4)\n",
        "batch2 = torch.randn(10, 4, 5)\n",
        "r = torch.bmm(batch1, batch2)"
      ]
    },
    {
      "cell_type": "markdown",
      "metadata": {
        "id": "zygHVhSba0eN"
      },
      "source": [
        "###Squeeze and unsqueeze"
      ]
    },
    {
      "cell_type": "code",
      "execution_count": 12,
      "metadata": {
        "id": "vylLWkFfaicW"
      },
      "outputs": [],
      "source": [
        "t = torch.ones(2, 1, 2, 1)  # Size 2x1x2x1\n",
        "r = torch.squeeze(t)  # Size 2x2\n",
        "r = torch.squeeze(t, 1)  # Squeeze dimension 1: Size 2x2x1\n",
        "\n",
        "# Un-squeeze a dimension\n",
        "x = torch.Tensor([1, 2, 3])\n",
        "r = torch.unsqueeze(x, 0)  # Size: 1x3\n",
        "r = torch.unsqueeze(x, 1)  # Size: 3x1"
      ]
    },
    {
      "cell_type": "markdown",
      "metadata": {
        "id": "v6gEsNF3a-26"
      },
      "source": [
        "### Transpose\n"
      ]
    },
    {
      "cell_type": "code",
      "execution_count": 13,
      "metadata": {
        "colab": {
          "base_uri": "https://localhost:8080/"
        },
        "id": "TwCePtvPa_hO",
        "outputId": "fa870231-ae05-4485-d4d6-46501ff28f6a"
      },
      "outputs": [
        {
          "name": "stdout",
          "output_type": "stream",
          "text": [
            "torch.Size([2, 3])\n"
          ]
        }
      ],
      "source": [
        "# Transpose dim 0 and 1\n",
        "v = torch.randn(3, 2)\n",
        "r = torch.transpose(v, 0, 1)\n",
        "print(r.shape)"
      ]
    },
    {
      "cell_type": "markdown",
      "metadata": {
        "id": "G6wj7JQJRna5"
      },
      "source": [
        "### Numpy Bridge\n",
        "\n",
        "Converting a torch Tensor to a numpy array and vice versa is a breeze.\n",
        "\n",
        "The torch Tensor and numpy array will share their underlying memory locations, and changing one will change the other.\n",
        "\n",
        "Converting torch Tensor to numpy Array\n"
      ]
    },
    {
      "cell_type": "code",
      "execution_count": 14,
      "metadata": {
        "id": "M-V3P-KeOdFY"
      },
      "outputs": [],
      "source": [
        "# Create a numpy array.\n",
        "x = np.array([[1, 2], [3, 4]])\n",
        "\n",
        "# Convert the numpy array to a torch tensor.\n",
        "y = torch.from_numpy(x)\n",
        "\n",
        "# Convert the torch tensor to a numpy array.\n",
        "z = y.numpy()"
      ]
    },
    {
      "cell_type": "code",
      "execution_count": 15,
      "metadata": {
        "id": "DrxFA9zrOhcw"
      },
      "outputs": [],
      "source": [
        "# Conversion\n",
        "a = np.array([1, 2, 3])\n",
        "v = torch.from_numpy(a)  # Convert a numpy array to a Tensor\n",
        "\n",
        "b = v.numpy()  # Tensor to numpy\n",
        "b[1] = -1  # Numpy and Tensor share the same memory\n",
        "assert a[1] == b[1]  # Change Numpy will also change the Tensor"
      ]
    },
    {
      "cell_type": "markdown",
      "metadata": {
        "id": "PkrFAPSzYDLa"
      },
      "source": [
        "### Reshape tensor"
      ]
    },
    {
      "cell_type": "code",
      "execution_count": 16,
      "metadata": {
        "colab": {
          "base_uri": "https://localhost:8080/"
        },
        "id": "TVJAK82AYB78",
        "outputId": "2eb7bc9b-b6ba-4d17-a2e9-180a2cf00f17"
      },
      "outputs": [
        {
          "name": "stdout",
          "output_type": "stream",
          "text": [
            "torch.Size([6]) torch.Size([3, 2])\n"
          ]
        }
      ],
      "source": [
        "### Tensor resizing\n",
        "x = torch.randn(2, 3)  # Size 2x3\n",
        "y = x.view(6)  # Resize x to size 6\n",
        "z = x.view(-1, 2)  # Size 3x2\n",
        "print(y.shape, z.shape)"
      ]
    },
    {
      "cell_type": "code",
      "execution_count": null,
      "metadata": {
        "id": "cfoEcojSYTra"
      },
      "outputs": [],
      "source": []
    },
    {
      "cell_type": "markdown",
      "metadata": {
        "id": "CJnuUJgeSH5S"
      },
      "source": [
        "###CUDA Tensors\n",
        "\n",
        "All the Tensors on the CPU except a CharTensor support converting to NumPy and back.\n",
        "\n",
        "Tensors can be moved onto GPU using the .cuda function.\n"
      ]
    },
    {
      "cell_type": "code",
      "execution_count": 17,
      "metadata": {
        "id": "IPUVPxqbSP_8"
      },
      "outputs": [],
      "source": [
        "# let us run this cell only if CUDA is available\n",
        "\n",
        "x = torch.rand(3, 2)\n",
        "y = torch.rand(3, 2)\n",
        "if torch.cuda.is_available():\n",
        "    x = x.cuda()\n",
        "    y = y.cuda()\n",
        "    x + y"
      ]
    },
    {
      "cell_type": "code",
      "execution_count": 18,
      "metadata": {
        "colab": {
          "base_uri": "https://localhost:8080/"
        },
        "id": "fUYQkqCUSiRT",
        "outputId": "9bd26dbe-1dd3-4b0b-bfd1-59849f378229"
      },
      "outputs": [
        {
          "data": {
            "text/plain": [
              "tensor([[0.9127, 0.4743],\n",
              "        [0.5825, 0.0882],\n",
              "        [0.1765, 0.9361]])"
            ]
          },
          "execution_count": 18,
          "metadata": {},
          "output_type": "execute_result"
        }
      ],
      "source": [
        "x"
      ]
    },
    {
      "cell_type": "code",
      "execution_count": 19,
      "metadata": {
        "colab": {
          "base_uri": "https://localhost:8080/"
        },
        "id": "N20kEqktSQKm",
        "outputId": "f1c3de1c-829a-4d3c-87a6-202957b4c985"
      },
      "outputs": [
        {
          "data": {
            "text/plain": [
              "tensor([[0.3169, 0.9096],\n",
              "        [0.3209, 0.7751],\n",
              "        [0.3216, 0.9632]])"
            ]
          },
          "execution_count": 19,
          "metadata": {},
          "output_type": "execute_result"
        }
      ],
      "source": [
        "y"
      ]
    },
    {
      "cell_type": "markdown",
      "metadata": {
        "id": "1mS3kiy9UNoR"
      },
      "source": [
        "## Autograd: automatic differentiation\n",
        "\n",
        "Central to all neural networks in PyTorch is autograd, a core torch package for automatic differentiation.\n",
        "\n",
        "The autograd package provides automatic differentiation for all operations on Tensors. It is a define-by-run framework, which means that your backprop is defined by how your code is run, and that every single iteration can be different.\n",
        "\n",
        "Let us see this in more simple terms with some examples.\n"
      ]
    },
    {
      "cell_type": "code",
      "execution_count": 20,
      "metadata": {
        "id": "PmxgzX_6U4rn"
      },
      "outputs": [],
      "source": [
        "# create an variable\n",
        "x = torch.ones((2, 2), requires_grad=True)\n",
        "\n",
        "# Do an operation of variable:\n",
        "y = x + 2\n",
        "\n",
        "# Do more operations on y\n",
        "z = y * y * 3\n",
        "out = z.mean()"
      ]
    },
    {
      "cell_type": "code",
      "execution_count": 21,
      "metadata": {
        "id": "jdNxo2rxU4zr"
      },
      "outputs": [],
      "source": [
        "# Gradients\n",
        "# ---------\n",
        "# let's backprop now\n",
        "# ``out.backward()`` is equivalent to doing ``out.backward(torch.Tensor([1.0]))``\n",
        "out.backward()"
      ]
    },
    {
      "cell_type": "code",
      "execution_count": 22,
      "metadata": {
        "colab": {
          "base_uri": "https://localhost:8080/"
        },
        "id": "UNK-RRBmU43f",
        "outputId": "e1d7a184-4d47-4e84-d255-21c6bf895fd5"
      },
      "outputs": [
        {
          "name": "stdout",
          "output_type": "stream",
          "text": [
            "tensor([[4.5000, 4.5000],\n",
            "        [4.5000, 4.5000]])\n"
          ]
        }
      ],
      "source": [
        "###############################################################\n",
        "# print gradients d(out)/dx\n",
        "#\n",
        "\n",
        "print(x.grad)"
      ]
    },
    {
      "cell_type": "markdown",
      "metadata": {
        "id": "VUDiTPCeWGlU"
      },
      "source": [
        "You should have got a matrix of `4.5`. Let’s call the `out` _Variable_ $o$.\n",
        "We have that: $o = \\frac{1}{4}\\sum_i z_i$,\n",
        "$z_i = 3(x_i+2)^2$ and $z_i\\bigr\\rvert_{x_i=1} = 27$\n",
        "\n",
        "Therefore,\n",
        "$$\\frac{\\partial o}{\\partial x_i} = \\frac{3}{2}(x_i+2)$$ hence\n",
        "$$\\frac{\\partial o}{\\partial x_i}\\bigr\\rvert_{x_i=1} = \\frac{9}{2} = 4.5$$\n"
      ]
    },
    {
      "cell_type": "code",
      "execution_count": 23,
      "metadata": {
        "colab": {
          "base_uri": "https://localhost:8080/"
        },
        "id": "bKL_ex-DWs_L",
        "outputId": "a497edab-d53b-40de-8c87-21cd77af7c07"
      },
      "outputs": [
        {
          "name": "stdout",
          "output_type": "stream",
          "text": [
            "tensor([ 821.7240, 1491.2695,  926.4733], grad_fn=<MulBackward0>)\n"
          ]
        }
      ],
      "source": [
        "# You can do many crazy things with autograd!\n",
        "x = torch.randn(3, requires_grad=True)\n",
        "\n",
        "y = x * 2\n",
        "while y.data.norm() < 1000:\n",
        "    y = y * 2\n",
        "\n",
        "print(y)"
      ]
    },
    {
      "cell_type": "code",
      "execution_count": 24,
      "metadata": {
        "colab": {
          "base_uri": "https://localhost:8080/"
        },
        "id": "vmSVgbJNWyqu",
        "outputId": "fc612723-e108-4b1d-a8b4-b6eb8ff09840"
      },
      "outputs": [
        {
          "name": "stdout",
          "output_type": "stream",
          "text": [
            "tensor([2.0480e+02, 2.0480e+03, 2.0480e-01])\n"
          ]
        }
      ],
      "source": [
        "gradients = torch.FloatTensor([0.1, 1.0, 0.0001])\n",
        "y.backward(gradients)\n",
        "\n",
        "print(x.grad)"
      ]
    },
    {
      "cell_type": "markdown",
      "metadata": {
        "id": "mQ5oVt1kFv6N"
      },
      "source": [
        "### Basic autograd example 1 "
      ]
    },
    {
      "cell_type": "code",
      "execution_count": 25,
      "metadata": {
        "id": "Lx-5ce4DE2y-"
      },
      "outputs": [],
      "source": [
        "# Create tensors.\n",
        "x = torch.tensor(1.0, requires_grad=True)\n",
        "w = torch.tensor(2.0, requires_grad=True)\n",
        "b = torch.tensor(3.0, requires_grad=True)"
      ]
    },
    {
      "cell_type": "code",
      "execution_count": 26,
      "metadata": {
        "id": "mcy6p4nSE5Yt"
      },
      "outputs": [],
      "source": [
        "# Build a computational graph.\n",
        "y = w * x + b  # y = 2 * x + 3"
      ]
    },
    {
      "cell_type": "code",
      "execution_count": 27,
      "metadata": {
        "id": "gzfF4EDBGyJB"
      },
      "outputs": [],
      "source": [
        "# Compute gradients.\n",
        "y.backward()"
      ]
    },
    {
      "cell_type": "code",
      "execution_count": 28,
      "metadata": {
        "colab": {
          "base_uri": "https://localhost:8080/"
        },
        "id": "i3hIZDh1GrJn",
        "outputId": "40957869-de53-4e8c-90c4-d4c3d7228917"
      },
      "outputs": [
        {
          "name": "stdout",
          "output_type": "stream",
          "text": [
            "tensor(2.)\n",
            "tensor(1.)\n",
            "tensor(1.)\n"
          ]
        }
      ],
      "source": [
        "# Print out the gradients.\n",
        "print(x.grad)  # x.grad = 2\n",
        "print(w.grad)  # w.grad = 1\n",
        "print(b.grad)  # b.grad = 1"
      ]
    },
    {
      "cell_type": "code",
      "execution_count": 29,
      "metadata": {
        "colab": {
          "base_uri": "https://localhost:8080/"
        },
        "id": "iiS-D364E6JC",
        "outputId": "719d6344-6fc0-49bf-8c91-4f5d1185aa97"
      },
      "outputs": [
        {
          "data": {
            "text/plain": [
              "array(5., dtype=float32)"
            ]
          },
          "execution_count": 29,
          "metadata": {},
          "output_type": "execute_result"
        }
      ],
      "source": [
        "y.detach().numpy()"
      ]
    },
    {
      "cell_type": "markdown",
      "metadata": {
        "id": "ahapqf3VF8Fn"
      },
      "source": [
        "### Basic autograd example 2  "
      ]
    },
    {
      "cell_type": "code",
      "execution_count": 30,
      "metadata": {
        "colab": {
          "base_uri": "https://localhost:8080/"
        },
        "id": "lgah0xn0GCxA",
        "outputId": "169a0d08-8072-4300-cf91-8625e4e51aeb"
      },
      "outputs": [
        {
          "name": "stdout",
          "output_type": "stream",
          "text": [
            "torch.Size([10, 3]) torch.Size([10, 2])\n"
          ]
        }
      ],
      "source": [
        "# Create tensors of shape (10, 3) and (10, 2).\n",
        "x = torch.randn(10, 3)\n",
        "y = torch.randn(10, 2)\n",
        "print(x.shape, y.shape)"
      ]
    },
    {
      "cell_type": "code",
      "execution_count": 31,
      "metadata": {
        "colab": {
          "base_uri": "https://localhost:8080/"
        },
        "id": "oiQkdoJXGLeJ",
        "outputId": "fd12f083-fbbf-49d2-d366-39d1e9a22341"
      },
      "outputs": [
        {
          "name": "stdout",
          "output_type": "stream",
          "text": [
            "w:  Parameter containing:\n",
            "tensor([[-0.0104, -0.0041, -0.3171],\n",
            "        [ 0.1509, -0.4402, -0.3914]], requires_grad=True)\n",
            "b:  Parameter containing:\n",
            "tensor([0.4418, 0.0423], requires_grad=True)\n"
          ]
        }
      ],
      "source": [
        "# Build a fully connected layer.\n",
        "linear = nn.Linear(3, 2)\n",
        "print(\"w: \", linear.weight)\n",
        "print(\"b: \", linear.bias)"
      ]
    },
    {
      "cell_type": "code",
      "execution_count": 32,
      "metadata": {
        "colab": {
          "base_uri": "https://localhost:8080/"
        },
        "id": "IvOuGobUG_c4",
        "outputId": "7a039f7b-fba4-4968-e115-1f71236d2349"
      },
      "outputs": [
        {
          "name": "stdout",
          "output_type": "stream",
          "text": [
            "loss:  1.7213104\n"
          ]
        }
      ],
      "source": [
        "loss = torch.sum((linear(x) - y) ** 2) / y.shape[0]\n",
        "print(\"loss: \", loss.data.numpy())"
      ]
    },
    {
      "cell_type": "code",
      "execution_count": 33,
      "metadata": {
        "id": "-Jg-jZqxIswR"
      },
      "outputs": [],
      "source": [
        "loss.backward()"
      ]
    },
    {
      "cell_type": "code",
      "execution_count": 34,
      "metadata": {
        "colab": {
          "base_uri": "https://localhost:8080/"
        },
        "id": "UIJ9YkofIszl",
        "outputId": "f4af6020-8e55-4187-c0df-2abd1b36fa93"
      },
      "outputs": [
        {
          "name": "stdout",
          "output_type": "stream",
          "text": [
            "w grad:  tensor([[-0.3471,  0.0908, -0.3965],\n",
            "        [-0.3288, -1.0883,  0.4767]])\n",
            "b grad:  tensor([-0.0294,  0.7396])\n"
          ]
        }
      ],
      "source": [
        "print(\"w grad: \", linear.weight.grad)\n",
        "print(\"b grad: \", linear.bias.grad)"
      ]
    },
    {
      "cell_type": "code",
      "execution_count": 35,
      "metadata": {
        "colab": {
          "base_uri": "https://localhost:8080/"
        },
        "id": "vPtT7MCXJJsj",
        "outputId": "14575b6b-a99d-4d07-82c7-20673e4372f0"
      },
      "outputs": [
        {
          "name": "stdout",
          "output_type": "stream",
          "text": [
            "w grad: tensor([[-0.3471,  0.0908, -0.3965],\n",
            "        [-0.3288, -1.0883,  0.4767]], grad_fn=<MulBackward0>)\n",
            "b grad: tensor([-0.0294,  0.7396], grad_fn=<MulBackward0>)\n"
          ]
        }
      ],
      "source": [
        "# check grad\n",
        "print(\"w grad:\", (linear(x) - y).transpose(0, 1).mm(x) / y.shape[0] * 2)\n",
        "print(\"b grad:\", 2 * torch.mean(linear(x) - y, dim=0))"
      ]
    },
    {
      "cell_type": "markdown",
      "metadata": {
        "id": "Yy7Cv9ugMN0K"
      },
      "source": [
        "###. Basic autograd example 3"
      ]
    },
    {
      "cell_type": "code",
      "execution_count": 36,
      "metadata": {
        "id": "hon-LU88MN6L"
      },
      "outputs": [],
      "source": [
        "# Create tensors of shape (10, 3) and (10, 2).\n",
        "x = torch.randn(10, 3)\n",
        "y = torch.randn(10, 2)\n",
        "linear = nn.Linear(3, 2)"
      ]
    },
    {
      "cell_type": "code",
      "execution_count": 37,
      "metadata": {
        "colab": {
          "base_uri": "https://localhost:8080/"
        },
        "id": "ltmT6QfoFMal",
        "outputId": "701866de-8f60-44b9-fc55-67699b152bf1"
      },
      "outputs": [
        {
          "name": "stdout",
          "output_type": "stream",
          "text": [
            "loss:  1.570475459098816\n",
            "dL/dw:  tensor([[-1.0785,  0.0653, -0.4341],\n",
            "        [-0.3406,  0.2870, -0.3502]])\n",
            "dL/db:  tensor([0.4043, 0.0447])\n",
            "loss after 1 step optimization:  1.5522257089614868\n"
          ]
        }
      ],
      "source": [
        "# Build loss function and optimizer.\n",
        "criterion = nn.MSELoss()\n",
        "optimizer = torch.optim.SGD(linear.parameters(), lr=0.01)\n",
        "\n",
        "# Forward pass.\n",
        "pred = linear(x)\n",
        "\n",
        "# Compute loss.\n",
        "loss = criterion(pred, y)\n",
        "print(\"loss: \", loss.item())\n",
        "\n",
        "# Backward pass.\n",
        "loss.backward()\n",
        "\n",
        "# Print out the gradients.\n",
        "print(\"dL/dw: \", linear.weight.grad)\n",
        "print(\"dL/db: \", linear.bias.grad)\n",
        "\n",
        "# 1-step gradient descent.\n",
        "optimizer.step()\n",
        "\n",
        "# You can also perform gradient descent at the low level.\n",
        "# linear.weight.data.sub_(0.01 * linear.weight.grad.data)\n",
        "# linear.bias.data.sub_(0.01 * linear.bias.grad.data)\n",
        "\n",
        "# Print out the loss after 1-step gradient descent.\n",
        "pred = linear(x)\n",
        "loss = criterion(pred, y)\n",
        "print(\"loss after 1 step optimization: \", loss.item())"
      ]
    },
    {
      "cell_type": "markdown",
      "metadata": {
        "id": "WO2btHYRjJ6D"
      },
      "source": [
        "## Input pipeline, Data loader"
      ]
    },
    {
      "cell_type": "code",
      "execution_count": 38,
      "metadata": {
        "colab": {
          "base_uri": "https://localhost:8080/",
          "height": 118,
          "referenced_widgets": [
            "343a69e4d00f47d4b7225e52d0b569c9",
            "3008e83ef23946549b0953868f463e39",
            "dac5f7019e9b4a6197bbfddead7b41a2",
            "a3efabba5d9f408c9fd7d90179fbb809",
            "1b1e06e58ca740a3a2f795de6fcaea27",
            "d654583abc07486b8124a9ef8a11aa78",
            "518f8c218af64cd3bc1bc0aee0ea8651",
            "62f48dd3fbad4cb5be1dd1131efd2987"
          ]
        },
        "id": "YC-xoV6kPmlm",
        "outputId": "87509b8e-8251-4f84-c04e-8012d17e8190"
      },
      "outputs": [],
      "source": [
        "# # Download and construct CIFAR-10 dataset.\n",
        "# train_dataset = torchvision.datasets.CIFAR10(root='../../data/',\n",
        "#                                              train=True,\n",
        "#                                              transform=transforms.ToTensor(),\n",
        "#                                              download=True)\n",
        "\n",
        "# # Fetch one data pair (read data from disk).\n",
        "# image, label = train_dataset[0]\n",
        "# print (image.size())\n",
        "# print (label)\n",
        "\n",
        "# # Data loader (this provides queues and threads in a very simple way).\n",
        "# train_loader = torch.utils.data.DataLoader(dataset=train_dataset,\n",
        "#                                            batch_size=64,\n",
        "#                                            shuffle=True)\n",
        "\n",
        "# # When iteration starts, queue and thread start to load data from files.\n",
        "# data_iter = iter(train_loader)\n",
        "\n",
        "# # Mini-batch images and labels.\n",
        "# images, labels = data_iter.next()\n",
        "\n",
        "# # Actual usage of the data loader is as below.\n",
        "# for images, labels in train_loader:\n",
        "#     # Training code should be written here.\n",
        "#     pass"
      ]
    },
    {
      "cell_type": "markdown",
      "metadata": {
        "id": "bI16kN0tjnRl"
      },
      "source": [
        "### Input pipeline for custom dataset"
      ]
    },
    {
      "cell_type": "code",
      "execution_count": 39,
      "metadata": {
        "id": "TLfA6_yGjlwF"
      },
      "outputs": [],
      "source": [
        "# # ================================================================== #\n",
        "# #                  Input pipeline for custom dataset                 #\n",
        "# # ================================================================== #\n",
        "\n",
        "# # You should build your custom dataset as below.\n",
        "# class CustomDataset(torch.utils.data.Dataset):\n",
        "#     def __init__(self):\n",
        "#         # TODO\n",
        "#         # 1. Initialize file paths or a list of file names.\n",
        "#         pass\n",
        "#     def __getitem__(self, index):\n",
        "#         # TODO\n",
        "#         # 1. Read one data from file (e.g. using numpy.fromfile, PIL.Image.open).\n",
        "#         # 2. Preprocess the data (e.g. torchvision.Transform).\n",
        "#         # 3. Return a data pair (e.g. image and label).\n",
        "#         pass\n",
        "#     def __len__(self):\n",
        "#         # You should change 0 to the total size of your dataset.\n",
        "#         return 0\n",
        "\n",
        "# # You can then use the prebuilt data loader.\n",
        "# custom_dataset = CustomDataset()\n",
        "# train_loader = torch.utils.data.DataLoader(dataset=custom_dataset,\n",
        "#                                            batch_size=64,\n",
        "#                                            shuffle=True)"
      ]
    },
    {
      "cell_type": "markdown",
      "metadata": {
        "id": "olrd4PlTjgv7"
      },
      "source": [
        "### Pretrained model"
      ]
    },
    {
      "cell_type": "code",
      "execution_count": 40,
      "metadata": {
        "colab": {
          "base_uri": "https://localhost:8080/",
          "referenced_widgets": [
            "a7906ccdd26240258cf4e935fb62bb0f",
            "0f66f60cfbe1441784f99f8985ed7144",
            "2eaec9e517b6439c831b5892cdb8ae56",
            "71633aa2323c4f878a1f26c5fca2de40",
            "44d3a25827e74a93bc274eda0fa5f01e",
            "72273c9069064435993d50f27b7ba14f",
            "f8e3102d79414c4c9453825f8e453638",
            "fc2b92ce9f6447768f3ee8d508522c67"
          ]
        },
        "id": "xRsDNLcKjfGz",
        "outputId": "071ea4e0-b00c-4e76-f6cc-16b4eaed781b"
      },
      "outputs": [],
      "source": [
        "# # ================================================================== #\n",
        "# #                           Pretrained model                         #\n",
        "# # ================================================================== #\n",
        "\n",
        "# # Download and load the pretrained ResNet-18.\n",
        "# resnet = torchvision.models.resnet18(pretrained=True)\n",
        "\n",
        "# # If you want to finetune only the top layer of the model, set as below.\n",
        "# for param in resnet.parameters():\n",
        "#     param.requires_grad = False\n",
        "\n",
        "# # Replace the top layer for finetuning.\n",
        "# resnet.fc = nn.Linear(resnet.fc.in_features, 100)  # 100 is an example.\n",
        "\n",
        "# # Forward pass.\n",
        "# images = torch.randn(64, 3, 224, 224)\n",
        "# outputs = resnet(images)\n",
        "# print (outputs.size())     # (64, 100)"
      ]
    },
    {
      "cell_type": "markdown",
      "metadata": {
        "id": "9VbbrBlBjY6P"
      },
      "source": [
        "### Save and load the model    "
      ]
    },
    {
      "cell_type": "code",
      "execution_count": 41,
      "metadata": {
        "colab": {
          "base_uri": "https://localhost:8080/"
        },
        "id": "qfYBD7T_jW6f",
        "outputId": "f3de4594-d51b-45f8-8a2f-94f95a5ae74f"
      },
      "outputs": [],
      "source": [
        "# # Save and load the entire model.\n",
        "# torch.save(resnet, 'model.ckpt')\n",
        "# model = torch.load('model.ckpt')\n",
        "\n",
        "# # Save and load only the model parameters (recommended).\n",
        "# torch.save(resnet.state_dict(), 'params.ckpt')\n",
        "# resnet.load_state_dict(torch.load('params.ckpt'))"
      ]
    },
    {
      "cell_type": "code",
      "execution_count": null,
      "metadata": {
        "id": "gx1gFIdtjdcE"
      },
      "outputs": [],
      "source": []
    }
  ],
  "metadata": {
    "accelerator": "GPU",
    "colab": {
      "include_colab_link": true,
      "name": "Untitled1.ipynb",
      "provenance": []
    },
    "kernelspec": {
      "display_name": "Python 3",
      "name": "python3"
    },
    "language_info": {
      "codemirror_mode": {
        "name": "ipython",
        "version": 3
      },
      "file_extension": ".py",
      "mimetype": "text/x-python",
      "name": "python",
      "nbconvert_exporter": "python",
      "pygments_lexer": "ipython3",
      "version": "3.11.5"
    },
    "widgets": {
      "application/vnd.jupyter.widget-state+json": {
        "0f66f60cfbe1441784f99f8985ed7144": {
          "model_module": "@jupyter-widgets/base",
          "model_name": "LayoutModel",
          "state": {
            "_model_module": "@jupyter-widgets/base",
            "_model_module_version": "1.2.0",
            "_model_name": "LayoutModel",
            "_view_count": null,
            "_view_module": "@jupyter-widgets/base",
            "_view_module_version": "1.2.0",
            "_view_name": "LayoutView",
            "align_content": null,
            "align_items": null,
            "align_self": null,
            "border": null,
            "bottom": null,
            "display": null,
            "flex": null,
            "flex_flow": null,
            "grid_area": null,
            "grid_auto_columns": null,
            "grid_auto_flow": null,
            "grid_auto_rows": null,
            "grid_column": null,
            "grid_gap": null,
            "grid_row": null,
            "grid_template_areas": null,
            "grid_template_columns": null,
            "grid_template_rows": null,
            "height": null,
            "justify_content": null,
            "justify_items": null,
            "left": null,
            "margin": null,
            "max_height": null,
            "max_width": null,
            "min_height": null,
            "min_width": null,
            "object_fit": null,
            "object_position": null,
            "order": null,
            "overflow": null,
            "overflow_x": null,
            "overflow_y": null,
            "padding": null,
            "right": null,
            "top": null,
            "visibility": null,
            "width": null
          }
        },
        "1b1e06e58ca740a3a2f795de6fcaea27": {
          "model_module": "@jupyter-widgets/controls",
          "model_name": "ProgressStyleModel",
          "state": {
            "_model_module": "@jupyter-widgets/controls",
            "_model_module_version": "1.5.0",
            "_model_name": "ProgressStyleModel",
            "_view_count": null,
            "_view_module": "@jupyter-widgets/base",
            "_view_module_version": "1.2.0",
            "_view_name": "StyleView",
            "bar_color": null,
            "description_width": "initial"
          }
        },
        "2eaec9e517b6439c831b5892cdb8ae56": {
          "model_module": "@jupyter-widgets/controls",
          "model_name": "FloatProgressModel",
          "state": {
            "_dom_classes": [],
            "_model_module": "@jupyter-widgets/controls",
            "_model_module_version": "1.5.0",
            "_model_name": "FloatProgressModel",
            "_view_count": null,
            "_view_module": "@jupyter-widgets/controls",
            "_view_module_version": "1.5.0",
            "_view_name": "ProgressView",
            "bar_style": "success",
            "description": "100%",
            "description_tooltip": null,
            "layout": "IPY_MODEL_72273c9069064435993d50f27b7ba14f",
            "max": 46827520,
            "min": 0,
            "orientation": "horizontal",
            "style": "IPY_MODEL_44d3a25827e74a93bc274eda0fa5f01e",
            "value": 46827520
          }
        },
        "3008e83ef23946549b0953868f463e39": {
          "model_module": "@jupyter-widgets/base",
          "model_name": "LayoutModel",
          "state": {
            "_model_module": "@jupyter-widgets/base",
            "_model_module_version": "1.2.0",
            "_model_name": "LayoutModel",
            "_view_count": null,
            "_view_module": "@jupyter-widgets/base",
            "_view_module_version": "1.2.0",
            "_view_name": "LayoutView",
            "align_content": null,
            "align_items": null,
            "align_self": null,
            "border": null,
            "bottom": null,
            "display": null,
            "flex": null,
            "flex_flow": null,
            "grid_area": null,
            "grid_auto_columns": null,
            "grid_auto_flow": null,
            "grid_auto_rows": null,
            "grid_column": null,
            "grid_gap": null,
            "grid_row": null,
            "grid_template_areas": null,
            "grid_template_columns": null,
            "grid_template_rows": null,
            "height": null,
            "justify_content": null,
            "justify_items": null,
            "left": null,
            "margin": null,
            "max_height": null,
            "max_width": null,
            "min_height": null,
            "min_width": null,
            "object_fit": null,
            "object_position": null,
            "order": null,
            "overflow": null,
            "overflow_x": null,
            "overflow_y": null,
            "padding": null,
            "right": null,
            "top": null,
            "visibility": null,
            "width": null
          }
        },
        "343a69e4d00f47d4b7225e52d0b569c9": {
          "model_module": "@jupyter-widgets/controls",
          "model_name": "HBoxModel",
          "state": {
            "_dom_classes": [],
            "_model_module": "@jupyter-widgets/controls",
            "_model_module_version": "1.5.0",
            "_model_name": "HBoxModel",
            "_view_count": null,
            "_view_module": "@jupyter-widgets/controls",
            "_view_module_version": "1.5.0",
            "_view_name": "HBoxView",
            "box_style": "",
            "children": [
              "IPY_MODEL_dac5f7019e9b4a6197bbfddead7b41a2",
              "IPY_MODEL_a3efabba5d9f408c9fd7d90179fbb809"
            ],
            "layout": "IPY_MODEL_3008e83ef23946549b0953868f463e39"
          }
        },
        "44d3a25827e74a93bc274eda0fa5f01e": {
          "model_module": "@jupyter-widgets/controls",
          "model_name": "ProgressStyleModel",
          "state": {
            "_model_module": "@jupyter-widgets/controls",
            "_model_module_version": "1.5.0",
            "_model_name": "ProgressStyleModel",
            "_view_count": null,
            "_view_module": "@jupyter-widgets/base",
            "_view_module_version": "1.2.0",
            "_view_name": "StyleView",
            "bar_color": null,
            "description_width": "initial"
          }
        },
        "518f8c218af64cd3bc1bc0aee0ea8651": {
          "model_module": "@jupyter-widgets/controls",
          "model_name": "DescriptionStyleModel",
          "state": {
            "_model_module": "@jupyter-widgets/controls",
            "_model_module_version": "1.5.0",
            "_model_name": "DescriptionStyleModel",
            "_view_count": null,
            "_view_module": "@jupyter-widgets/base",
            "_view_module_version": "1.2.0",
            "_view_name": "StyleView",
            "description_width": ""
          }
        },
        "62f48dd3fbad4cb5be1dd1131efd2987": {
          "model_module": "@jupyter-widgets/base",
          "model_name": "LayoutModel",
          "state": {
            "_model_module": "@jupyter-widgets/base",
            "_model_module_version": "1.2.0",
            "_model_name": "LayoutModel",
            "_view_count": null,
            "_view_module": "@jupyter-widgets/base",
            "_view_module_version": "1.2.0",
            "_view_name": "LayoutView",
            "align_content": null,
            "align_items": null,
            "align_self": null,
            "border": null,
            "bottom": null,
            "display": null,
            "flex": null,
            "flex_flow": null,
            "grid_area": null,
            "grid_auto_columns": null,
            "grid_auto_flow": null,
            "grid_auto_rows": null,
            "grid_column": null,
            "grid_gap": null,
            "grid_row": null,
            "grid_template_areas": null,
            "grid_template_columns": null,
            "grid_template_rows": null,
            "height": null,
            "justify_content": null,
            "justify_items": null,
            "left": null,
            "margin": null,
            "max_height": null,
            "max_width": null,
            "min_height": null,
            "min_width": null,
            "object_fit": null,
            "object_position": null,
            "order": null,
            "overflow": null,
            "overflow_x": null,
            "overflow_y": null,
            "padding": null,
            "right": null,
            "top": null,
            "visibility": null,
            "width": null
          }
        },
        "71633aa2323c4f878a1f26c5fca2de40": {
          "model_module": "@jupyter-widgets/controls",
          "model_name": "HTMLModel",
          "state": {
            "_dom_classes": [],
            "_model_module": "@jupyter-widgets/controls",
            "_model_module_version": "1.5.0",
            "_model_name": "HTMLModel",
            "_view_count": null,
            "_view_module": "@jupyter-widgets/controls",
            "_view_module_version": "1.5.0",
            "_view_name": "HTMLView",
            "description": "",
            "description_tooltip": null,
            "layout": "IPY_MODEL_fc2b92ce9f6447768f3ee8d508522c67",
            "placeholder": "​",
            "style": "IPY_MODEL_f8e3102d79414c4c9453825f8e453638",
            "value": " 44.7M/44.7M [00:00&lt;00:00, 54.7MB/s]"
          }
        },
        "72273c9069064435993d50f27b7ba14f": {
          "model_module": "@jupyter-widgets/base",
          "model_name": "LayoutModel",
          "state": {
            "_model_module": "@jupyter-widgets/base",
            "_model_module_version": "1.2.0",
            "_model_name": "LayoutModel",
            "_view_count": null,
            "_view_module": "@jupyter-widgets/base",
            "_view_module_version": "1.2.0",
            "_view_name": "LayoutView",
            "align_content": null,
            "align_items": null,
            "align_self": null,
            "border": null,
            "bottom": null,
            "display": null,
            "flex": null,
            "flex_flow": null,
            "grid_area": null,
            "grid_auto_columns": null,
            "grid_auto_flow": null,
            "grid_auto_rows": null,
            "grid_column": null,
            "grid_gap": null,
            "grid_row": null,
            "grid_template_areas": null,
            "grid_template_columns": null,
            "grid_template_rows": null,
            "height": null,
            "justify_content": null,
            "justify_items": null,
            "left": null,
            "margin": null,
            "max_height": null,
            "max_width": null,
            "min_height": null,
            "min_width": null,
            "object_fit": null,
            "object_position": null,
            "order": null,
            "overflow": null,
            "overflow_x": null,
            "overflow_y": null,
            "padding": null,
            "right": null,
            "top": null,
            "visibility": null,
            "width": null
          }
        },
        "a3efabba5d9f408c9fd7d90179fbb809": {
          "model_module": "@jupyter-widgets/controls",
          "model_name": "HTMLModel",
          "state": {
            "_dom_classes": [],
            "_model_module": "@jupyter-widgets/controls",
            "_model_module_version": "1.5.0",
            "_model_name": "HTMLModel",
            "_view_count": null,
            "_view_module": "@jupyter-widgets/controls",
            "_view_module_version": "1.5.0",
            "_view_name": "HTMLView",
            "description": "",
            "description_tooltip": null,
            "layout": "IPY_MODEL_62f48dd3fbad4cb5be1dd1131efd2987",
            "placeholder": "​",
            "style": "IPY_MODEL_518f8c218af64cd3bc1bc0aee0ea8651",
            "value": " 170500096/? [00:19&lt;00:00, 102515842.30it/s]"
          }
        },
        "a7906ccdd26240258cf4e935fb62bb0f": {
          "model_module": "@jupyter-widgets/controls",
          "model_name": "HBoxModel",
          "state": {
            "_dom_classes": [],
            "_model_module": "@jupyter-widgets/controls",
            "_model_module_version": "1.5.0",
            "_model_name": "HBoxModel",
            "_view_count": null,
            "_view_module": "@jupyter-widgets/controls",
            "_view_module_version": "1.5.0",
            "_view_name": "HBoxView",
            "box_style": "",
            "children": [
              "IPY_MODEL_2eaec9e517b6439c831b5892cdb8ae56",
              "IPY_MODEL_71633aa2323c4f878a1f26c5fca2de40"
            ],
            "layout": "IPY_MODEL_0f66f60cfbe1441784f99f8985ed7144"
          }
        },
        "d654583abc07486b8124a9ef8a11aa78": {
          "model_module": "@jupyter-widgets/base",
          "model_name": "LayoutModel",
          "state": {
            "_model_module": "@jupyter-widgets/base",
            "_model_module_version": "1.2.0",
            "_model_name": "LayoutModel",
            "_view_count": null,
            "_view_module": "@jupyter-widgets/base",
            "_view_module_version": "1.2.0",
            "_view_name": "LayoutView",
            "align_content": null,
            "align_items": null,
            "align_self": null,
            "border": null,
            "bottom": null,
            "display": null,
            "flex": null,
            "flex_flow": null,
            "grid_area": null,
            "grid_auto_columns": null,
            "grid_auto_flow": null,
            "grid_auto_rows": null,
            "grid_column": null,
            "grid_gap": null,
            "grid_row": null,
            "grid_template_areas": null,
            "grid_template_columns": null,
            "grid_template_rows": null,
            "height": null,
            "justify_content": null,
            "justify_items": null,
            "left": null,
            "margin": null,
            "max_height": null,
            "max_width": null,
            "min_height": null,
            "min_width": null,
            "object_fit": null,
            "object_position": null,
            "order": null,
            "overflow": null,
            "overflow_x": null,
            "overflow_y": null,
            "padding": null,
            "right": null,
            "top": null,
            "visibility": null,
            "width": null
          }
        },
        "dac5f7019e9b4a6197bbfddead7b41a2": {
          "model_module": "@jupyter-widgets/controls",
          "model_name": "FloatProgressModel",
          "state": {
            "_dom_classes": [],
            "_model_module": "@jupyter-widgets/controls",
            "_model_module_version": "1.5.0",
            "_model_name": "FloatProgressModel",
            "_view_count": null,
            "_view_module": "@jupyter-widgets/controls",
            "_view_module_version": "1.5.0",
            "_view_name": "ProgressView",
            "bar_style": "info",
            "description": "",
            "description_tooltip": null,
            "layout": "IPY_MODEL_d654583abc07486b8124a9ef8a11aa78",
            "max": 1,
            "min": 0,
            "orientation": "horizontal",
            "style": "IPY_MODEL_1b1e06e58ca740a3a2f795de6fcaea27",
            "value": 1
          }
        },
        "f8e3102d79414c4c9453825f8e453638": {
          "model_module": "@jupyter-widgets/controls",
          "model_name": "DescriptionStyleModel",
          "state": {
            "_model_module": "@jupyter-widgets/controls",
            "_model_module_version": "1.5.0",
            "_model_name": "DescriptionStyleModel",
            "_view_count": null,
            "_view_module": "@jupyter-widgets/base",
            "_view_module_version": "1.2.0",
            "_view_name": "StyleView",
            "description_width": ""
          }
        },
        "fc2b92ce9f6447768f3ee8d508522c67": {
          "model_module": "@jupyter-widgets/base",
          "model_name": "LayoutModel",
          "state": {
            "_model_module": "@jupyter-widgets/base",
            "_model_module_version": "1.2.0",
            "_model_name": "LayoutModel",
            "_view_count": null,
            "_view_module": "@jupyter-widgets/base",
            "_view_module_version": "1.2.0",
            "_view_name": "LayoutView",
            "align_content": null,
            "align_items": null,
            "align_self": null,
            "border": null,
            "bottom": null,
            "display": null,
            "flex": null,
            "flex_flow": null,
            "grid_area": null,
            "grid_auto_columns": null,
            "grid_auto_flow": null,
            "grid_auto_rows": null,
            "grid_column": null,
            "grid_gap": null,
            "grid_row": null,
            "grid_template_areas": null,
            "grid_template_columns": null,
            "grid_template_rows": null,
            "height": null,
            "justify_content": null,
            "justify_items": null,
            "left": null,
            "margin": null,
            "max_height": null,
            "max_width": null,
            "min_height": null,
            "min_width": null,
            "object_fit": null,
            "object_position": null,
            "order": null,
            "overflow": null,
            "overflow_x": null,
            "overflow_y": null,
            "padding": null,
            "right": null,
            "top": null,
            "visibility": null,
            "width": null
          }
        }
      }
    }
  },
  "nbformat": 4,
  "nbformat_minor": 0
}
